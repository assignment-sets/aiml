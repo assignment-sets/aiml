{
 "cells": [
  {
   "cell_type": "markdown",
   "id": "af248dac-6c51-4097-87a6-f67c09fbfbea",
   "metadata": {},
   "source": [
    "# assign 6"
   ]
  },
  {
   "cell_type": "code",
   "execution_count": 25,
   "id": "0e0401d5-4bb9-42ea-afa9-be84055fb008",
   "metadata": {},
   "outputs": [],
   "source": [
    "import pandas as pd\n",
    "import numpy as np\n",
    "from sklearn.datasets import fetch_california_housing\n",
    "from sklearn.model_selection import train_test_split\n",
    "from sklearn.tree import DecisionTreeRegressor\n",
    "from sklearn.metrics import mean_squared_error, r2_score"
   ]
  },
  {
   "cell_type": "markdown",
   "id": "c1ce218f-cb17-4242-b24d-a91555f36fa1",
   "metadata": {},
   "source": [
    "## 1"
   ]
  },
  {
   "cell_type": "markdown",
   "id": "16e72226-9612-43e4-a395-3895057c86ab",
   "metadata": {},
   "source": [
    "### a"
   ]
  },
  {
   "cell_type": "code",
   "execution_count": 26,
   "id": "6ec586fe-6ddd-47cd-a04f-2e71c785accc",
   "metadata": {},
   "outputs": [
    {
     "name": "stdout",
     "output_type": "stream",
     "text": [
      ".. _california_housing_dataset:\n",
      "\n",
      "California Housing dataset\n",
      "--------------------------\n",
      "\n",
      "**Data Set Characteristics:**\n",
      "\n",
      "    :Number of Instances: 20640\n",
      "\n",
      "    :Number of Attributes: 8 numeric, predictive attributes and the target\n",
      "\n",
      "    :Attribute Information:\n",
      "        - MedInc        median income in block group\n",
      "        - HouseAge      median house age in block group\n",
      "        - AveRooms      average number of rooms per household\n",
      "        - AveBedrms     average number of bedrooms per household\n",
      "        - Population    block group population\n",
      "        - AveOccup      average number of household members\n",
      "        - Latitude      block group latitude\n",
      "        - Longitude     block group longitude\n",
      "\n",
      "    :Missing Attribute Values: None\n",
      "\n",
      "This dataset was obtained from the StatLib repository.\n",
      "https://www.dcc.fc.up.pt/~ltorgo/Regression/cal_housing.html\n",
      "\n",
      "The target variable is the median house value for California districts,\n",
      "expressed in hundreds of thousands of dollars ($100,000).\n",
      "\n",
      "This dataset was derived from the 1990 U.S. census, using one row per census\n",
      "block group. A block group is the smallest geographical unit for which the U.S.\n",
      "Census Bureau publishes sample data (a block group typically has a population\n",
      "of 600 to 3,000 people).\n",
      "\n",
      "A household is a group of people residing within a home. Since the average\n",
      "number of rooms and bedrooms in this dataset are provided per household, these\n",
      "columns may take surprisingly large values for block groups with few households\n",
      "and many empty houses, such as vacation resorts.\n",
      "\n",
      "It can be downloaded/loaded using the\n",
      ":func:`sklearn.datasets.fetch_california_housing` function.\n",
      "\n",
      ".. topic:: References\n",
      "\n",
      "    - Pace, R. Kelley and Ronald Barry, Sparse Spatial Autoregressions,\n",
      "      Statistics and Probability Letters, 33 (1997) 291-297\n",
      "\n"
     ]
    }
   ],
   "source": [
    "california = fetch_california_housing()\n",
    "print(california.DESCR)"
   ]
  },
  {
   "cell_type": "markdown",
   "id": "f93f908a-43db-4b75-bf34-733fb810c324",
   "metadata": {},
   "source": [
    "### b"
   ]
  },
  {
   "cell_type": "code",
   "execution_count": 27,
   "id": "4e1722d9-a22e-405d-8870-ebf669005c91",
   "metadata": {},
   "outputs": [],
   "source": [
    "df = pd.DataFrame(california.data, columns=california.feature_names)"
   ]
  },
  {
   "cell_type": "markdown",
   "id": "f7f76082-6557-4f1b-ba9c-efbdd7c5e878",
   "metadata": {},
   "source": [
    "### c"
   ]
  },
  {
   "cell_type": "code",
   "execution_count": 28,
   "id": "2a350099-3132-40d5-9ef2-f4f41ecfd465",
   "metadata": {},
   "outputs": [
    {
     "name": "stdout",
     "output_type": "stream",
     "text": [
      "            MedInc  HouseAge  AveRooms  AveBedrms  Population  AveOccup  \\\n",
      "MedInc       1.000    -0.119     0.327     -0.062       0.005     0.019   \n",
      "HouseAge    -0.119     1.000    -0.153     -0.078      -0.296     0.013   \n",
      "AveRooms     0.327    -0.153     1.000      0.848      -0.072    -0.005   \n",
      "AveBedrms   -0.062    -0.078     0.848      1.000      -0.066    -0.006   \n",
      "Population   0.005    -0.296    -0.072     -0.066       1.000     0.070   \n",
      "AveOccup     0.019     0.013    -0.005     -0.006       0.070     1.000   \n",
      "Latitude    -0.080     0.011     0.106      0.070      -0.109     0.002   \n",
      "Longitude   -0.015    -0.108    -0.028      0.013       0.100     0.002   \n",
      "\n",
      "            Latitude  Longitude  \n",
      "MedInc        -0.080     -0.015  \n",
      "HouseAge       0.011     -0.108  \n",
      "AveRooms       0.106     -0.028  \n",
      "AveBedrms      0.070      0.013  \n",
      "Population    -0.109      0.100  \n",
      "AveOccup       0.002      0.002  \n",
      "Latitude       1.000     -0.925  \n",
      "Longitude     -0.925      1.000  \n"
     ]
    }
   ],
   "source": [
    "correlation_matrix = df.corr().round(3)\n",
    "print(correlation_matrix)"
   ]
  },
  {
   "cell_type": "markdown",
   "id": "43eba2d2-b250-490f-8289-66e3d5f1354e",
   "metadata": {},
   "source": [
    "### d"
   ]
  },
  {
   "cell_type": "code",
   "execution_count": 29,
   "id": "e2f26ace-cec2-43d3-a818-642f71172979",
   "metadata": {},
   "outputs": [],
   "source": [
    "df['MEDV'] = california.target"
   ]
  },
  {
   "cell_type": "markdown",
   "id": "284dbd02-0a15-464c-9d81-60049a60983f",
   "metadata": {},
   "source": [
    "### e"
   ]
  },
  {
   "cell_type": "code",
   "execution_count": 30,
   "id": "14596434-0667-480c-ab65-0c0fd73efe36",
   "metadata": {},
   "outputs": [
    {
     "name": "stdout",
     "output_type": "stream",
     "text": [
      "Variable with minimum self-correlation: AveBedrms\n",
      "Variable with maximum self-correlation: Population\n"
     ]
    }
   ],
   "source": [
    "corr_values = correlation_matrix\n",
    "min_corr_variable = corr_values.idxmin(axis=1).min()\n",
    "max_corr_variable = corr_values.idxmax(axis=1).max()\n",
    "print(f\"Variable with minimum self-correlation: {min_corr_variable}\")\n",
    "print(f\"Variable with maximum self-correlation: {max_corr_variable}\")"
   ]
  },
  {
   "cell_type": "code",
   "execution_count": 31,
   "id": "b3fbabfb-bbde-46f0-9212-2b0f55a64ed4",
   "metadata": {},
   "outputs": [],
   "source": [
    "x = df[[min_corr_variable, max_corr_variable]]\n",
    "y = df['MEDV']"
   ]
  },
  {
   "cell_type": "markdown",
   "id": "d9248db7-21e3-4efa-9de4-fe44d6c3f3a6",
   "metadata": {},
   "source": [
    "### f"
   ]
  },
  {
   "cell_type": "code",
   "execution_count": 32,
   "id": "6088aa06-0f1f-4c83-9bad-91c52b30cf3b",
   "metadata": {},
   "outputs": [],
   "source": [
    "x_train_70, x_test_30, y_train_70, y_test_30 = train_test_split(x, y, test_size=0.3, random_state=42)"
   ]
  },
  {
   "cell_type": "markdown",
   "id": "c7b9cfb2-b135-4f34-a4bf-e5c255d59d5d",
   "metadata": {},
   "source": [
    "### g"
   ]
  },
  {
   "cell_type": "code",
   "execution_count": 33,
   "id": "26f1a565-3e17-4e29-a650-c6b307edbca1",
   "metadata": {},
   "outputs": [],
   "source": [
    "model = DecisionTreeRegressor(random_state=42)\n",
    "model.fit(x_train_70, y_train_70)\n",
    "y_pred_70_30 = model.predict(x_test_30)"
   ]
  },
  {
   "cell_type": "markdown",
   "id": "958e4ec0-e560-4757-9633-b07697655e52",
   "metadata": {},
   "source": [
    "### h"
   ]
  },
  {
   "cell_type": "code",
   "execution_count": 34,
   "id": "c3bd0224-59a6-47ff-8b4e-6d0aac43c722",
   "metadata": {},
   "outputs": [
    {
     "name": "stdout",
     "output_type": "stream",
     "text": [
      "Performance Metrics: MSE = 2.639526709041061, RMSE = 1.6246620291743945, R2 Score = -1.0110065157836554\n"
     ]
    }
   ],
   "source": [
    "mse = mean_squared_error(y_test_30, y_pred_70_30)\n",
    "rmse = np.sqrt(mse)\n",
    "r2 = r2_score(y_test_30, y_pred_70_30)\n",
    "\n",
    "performance_metrics = [mse, rmse, r2]\n",
    "print(f\"Performance Metrics: MSE = {mse}, RMSE = {rmse}, R2 Score = {r2}\")"
   ]
  },
  {
   "cell_type": "markdown",
   "id": "eff10528-e989-49f6-bad6-863364efc5f2",
   "metadata": {},
   "source": [
    "## 2"
   ]
  },
  {
   "cell_type": "code",
   "execution_count": 35,
   "id": "aa33a443-b802-4f60-bdd7-f0cbcf80e68e",
   "metadata": {},
   "outputs": [],
   "source": [
    "x_train_60, x_test_40, y_train_60, y_test_40 = train_test_split(x, y, test_size=0.4, random_state=42)\n",
    "x_train_80, x_test_20, y_train_80, y_test_20 = train_test_split(x, y, test_size=0.2, random_state=42)"
   ]
  },
  {
   "cell_type": "code",
   "execution_count": 36,
   "id": "d3de3779-67f7-463c-93a2-a0121ae66ce2",
   "metadata": {},
   "outputs": [
    {
     "name": "stdout",
     "output_type": "stream",
     "text": [
      "mse, rmse, r2 for 60/40 split ratio : [2.639526709041061, 1.6246620291743945, -1.0110065157836554]\n"
     ]
    }
   ],
   "source": [
    "model_60_40 = DecisionTreeRegressor(random_state=42)\n",
    "model_60_40.fit(x_train_60, y_train_60)\n",
    "y_pred_60_40 = model_60_40.predict(x_test_40)\n",
    "mse_60_40 = mean_squared_error(y_test_40, y_pred_60_40)\n",
    "rmse_60_40 = np.sqrt(mse_60_40)\n",
    "r2_60_40 = r2_score(y_test_40, y_pred_60_40)\n",
    "performance_metrics_60_40 = [mse, rmse, r2]\n",
    "print(f\"mse, rmse, r2 for 60/40 split ratio : {performance_metrics_60_40}\")"
   ]
  },
  {
   "cell_type": "code",
   "execution_count": 37,
   "id": "f2bdbc60-c207-42d8-ac1c-b926e1af5181",
   "metadata": {},
   "outputs": [
    {
     "name": "stdout",
     "output_type": "stream",
     "text": [
      "mse, rmse, r2 for 80/20 split ratio : [2.668278684598946, 1.6334866649590214, -1.0362182562125435]\n"
     ]
    }
   ],
   "source": [
    "# Train a DecisionTreeRegressor model using the 80/20 split\n",
    "model_80_20 = DecisionTreeRegressor(random_state=42)\n",
    "\n",
    "# Fit the model to the training data\n",
    "model_80_20.fit(x_train_80, y_train_80)\n",
    "\n",
    "# Predict the values for the test set\n",
    "y_pred_80_20 = model_80_20.predict(x_test_20)\n",
    "\n",
    "# Calculate the Mean Squared Error\n",
    "mse_80_20 = mean_squared_error(y_test_20, y_pred_80_20)\n",
    "\n",
    "# Calculate the Root Mean Squared Error\n",
    "rmse_80_20 = np.sqrt(mse_80_20)\n",
    "\n",
    "# Calculate the R-squared score\n",
    "r2_80_20 = r2_score(y_test_20, y_pred_80_20)\n",
    "\n",
    "# Save the performance metrics in a list\n",
    "performance_metrics_80_20 = [mse_80_20, rmse_80_20, r2_80_20]\n",
    "\n",
    "# Print the performance metrics\n",
    "print(f\"mse, rmse, r2 for 80/20 split ratio : {performance_metrics_80_20}\")"
   ]
  },
  {
   "cell_type": "markdown",
   "id": "f1dd6b8b-1d65-41ab-aacd-79db53be9ee5",
   "metadata": {},
   "source": [
    "## 3"
   ]
  },
  {
   "cell_type": "code",
   "execution_count": 38,
   "id": "9286e96d-af81-4cd1-a82e-e8a42bf2d838",
   "metadata": {},
   "outputs": [],
   "source": [
    "from sklearn.ensemble import RandomForestRegressor"
   ]
  },
  {
   "cell_type": "code",
   "execution_count": 39,
   "id": "796aa234-3fdf-40d3-92bc-a7c2caa33118",
   "metadata": {},
   "outputs": [],
   "source": [
    "rf_mse = []\n",
    "rf_rmse = []\n",
    "rf_r2 = []"
   ]
  },
  {
   "cell_type": "code",
   "execution_count": 42,
   "id": "71b8d6cc-2eba-422e-b884-b4780507d750",
   "metadata": {},
   "outputs": [],
   "source": [
    "rf_model_70_30 = RandomForestRegressor(random_state=42)\n",
    "rf_model_70_30.fit(x_train_70, y_train_70)\n",
    "y_pred_70_30_rf = rf_model_70_30.predict(x_test_30)\n",
    "_mse = mean_squared_error(y_test_30, y_pred_70_30_rf)\n",
    "rf_mse.append(_mse)\n",
    "rf_rmse.append(np.sqrt(_mse))\n",
    "rf_r2.append(r2_score(y_test_30, y_pred_70_30_rf))"
   ]
  },
  {
   "cell_type": "code",
   "execution_count": 43,
   "id": "5da3e0d6-63fc-456a-a977-8235894e5b14",
   "metadata": {},
   "outputs": [],
   "source": [
    "# Create and fit the RandomForestRegressor model for the 60/40 split\n",
    "rf_model_60_40 = RandomForestRegressor(random_state=42)\n",
    "rf_model_60_40.fit(x_train_60, y_train_60)\n",
    "\n",
    "# Make predictions for the test set\n",
    "y_pred_60_40_rf = rf_model_60_40.predict(x_test_40)\n",
    "\n",
    "# Calculate performance metrics\n",
    "_mse_60_40 = mean_squared_error(y_test_40, y_pred_60_40_rf)\n",
    "rf_mse.append(_mse_60_40)\n",
    "rf_rmse.append(np.sqrt(_mse_60_40))\n",
    "rf_r2.append(r2_score(y_test_40, y_pred_60_40_rf))"
   ]
  },
  {
   "cell_type": "code",
   "execution_count": 44,
   "id": "47130aef-5045-46ed-9cbb-1606b5e5ba3e",
   "metadata": {},
   "outputs": [],
   "source": [
    "# Create and fit the RandomForestRegressor model for the 80/20 split\n",
    "rf_model_80_20 = RandomForestRegressor(random_state=42)\n",
    "rf_model_80_20.fit(x_train_80, y_train_80)\n",
    "\n",
    "# Make predictions for the test set\n",
    "y_pred_80_20_rf = rf_model_80_20.predict(x_test_20)\n",
    "\n",
    "# Calculate performance metrics\n",
    "_mse_80_20 = mean_squared_error(y_test_20, y_pred_80_20_rf)\n",
    "rf_mse.append(_mse_80_20)\n",
    "rf_rmse.append(np.sqrt(_mse_80_20))\n",
    "rf_r2.append(r2_score(y_test_20, y_pred_80_20_rf))"
   ]
  },
  {
   "cell_type": "markdown",
   "id": "9563af93-be71-4844-a369-5051ce63285c",
   "metadata": {},
   "source": [
    "## 4"
   ]
  },
  {
   "cell_type": "code",
   "execution_count": 48,
   "id": "d5839848-7a7f-47ea-a437-043105371157",
   "metadata": {},
   "outputs": [],
   "source": [
    "import matplotlib.pyplot as plt"
   ]
  },
  {
   "cell_type": "code",
   "execution_count": 58,
   "id": "1adc34a5-05a3-4c3a-973f-69d245e6aa16",
   "metadata": {},
   "outputs": [
    {
     "data": {
      "image/png": "[encoded data removed]",
      "text/plain": [
       "<Figure size 1500x500 with 3 Axes>"
      ]
     },
     "metadata": {},
     "output_type": "display_data"
    }
   ],
   "source": [
    "split_ratios = ['70/30', '60/40', '80/20']\n",
    "\n",
    "split_ratios = ['70/30', '60/40', '80/20']\n",
    "\n",
    "# Create subplots with 1 row and 3 columns\n",
    "fig, axs = plt.subplots(1, 3, figsize=(15, 5))\n",
    "\n",
    "# Plot Mean Squared Error\n",
    "axs[0].bar(split_ratios, rf_mse, color='skyblue')\n",
    "axs[0].set_title('Mean Squared Error (MSE)')\n",
    "axs[0].set_ylabel('MSE')\n",
    "axs[0].grid(axis='y')\n",
    "\n",
    "# Plot Root Mean Squared Error\n",
    "axs[1].bar(split_ratios, rf_rmse, color='lightgreen')\n",
    "axs[1].set_title('Root Mean Squared Error (RMSE)')\n",
    "axs[1].set_ylabel('RMSE')\n",
    "axs[1].grid(axis='y')\n",
    "\n",
    "# Plot R^2 Scores\n",
    "axs[2].bar(split_ratios, rf_r2, color='salmon')\n",
    "axs[2].set_title('R^2 Scores')\n",
    "axs[2].set_ylabel('R^2')\n",
    "axs[2].set_ylim(-1, 1)  # Set limits for R^2 score\n",
    "axs[2].grid(axis='y')\n",
    "\n",
    "# Add common x-label for all subplots\n",
    "plt.xlabel('Train/Test Split Ratios', fontsize=12, labelpad=10)\n",
    "\n",
    "# Adjust spacing between plots and add a title for the entire figure\n",
    "plt.suptitle('Performance Metrics of Random Forest Regressor', fontsize=16)\n",
    "plt.tight_layout(rect=[0, 0.03, 1, 0.95])  # Adjust layout to make room for the title\n",
    "plt.show()"
   ]
  }
 ],
 "metadata": {
  "kernelspec": {
   "display_name": "Python 3 (ipykernel)",
   "language": "python",
   "name": "python3"
  },
  "language_info": {
   "codemirror_mode": {
    "name": "ipython",
    "version": 3
   },
   "file_extension": ".py",
   "mimetype": "text/x-python",
   "name": "python",
   "nbconvert_exporter": "python",
   "pygments_lexer": "ipython3",
   "version": "3.8.18"
  }
 },
 "nbformat": 4,
 "nbformat_minor": 5
}
