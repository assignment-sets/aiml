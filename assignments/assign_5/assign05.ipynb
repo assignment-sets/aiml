{
 "cells": [
  {
   "cell_type": "markdown",
   "id": "a9ec3511-0f83-4475-a0d3-baac317009da",
   "metadata": {},
   "source": [
    "# 1"
   ]
  },
  {
   "cell_type": "code",
   "execution_count": 20,
   "id": "45b8b743-d307-45a1-a07a-a92a76e4508e",
   "metadata": {},
   "outputs": [],
   "source": [
    "from sklearn.datasets import load_iris\n",
    "import pandas as pd\n",
    "from sklearn.model_selection import train_test_split\n",
    "from sklearn.linear_model import LogisticRegression\n",
    "from sklearn.metrics import r2_score\n",
    "from sklearn.preprocessing import StandardScaler"
   ]
  },
  {
   "cell_type": "markdown",
   "id": "bd335b3c-e704-49b1-ba3d-9a79a9ac1bb8",
   "metadata": {},
   "source": [
    "## a"
   ]
  },
  {
   "cell_type": "code",
   "execution_count": 3,
   "id": "5e233cdc-8b4f-4d4c-a75b-c9f429b7d9bd",
   "metadata": {},
   "outputs": [
    {
     "data": {
      "text/plain": [
       "'.. _iris_dataset:\\n\\nIris plants dataset\\n--------------------\\n\\n**Data Set Characteristics:**\\n\\n    :Number of Instances: 150 (50 in each of three classes)\\n    :Number of Attributes: 4 numeric, predictive attributes and the class\\n    :Attribute Information:\\n        - sepal length in cm\\n        - sepal width in cm\\n        - petal length in cm\\n        - petal width in cm\\n        - class:\\n                - Iris-Setosa\\n                - Iris-Versicolour\\n                - Iris-Virginica\\n                \\n    :Summary Statistics:\\n\\n    ============== ==== ==== ======= ===== ====================\\n                    Min  Max   Mean    SD   Class Correlation\\n    ============== ==== ==== ======= ===== ====================\\n    sepal length:   4.3  7.9   5.84   0.83    0.7826\\n    sepal width:    2.0  4.4   3.05   0.43   -0.4194\\n    petal length:   1.0  6.9   3.76   1.76    0.9490  (high!)\\n    petal width:    0.1  2.5   1.20   0.76    0.9565  (high!)\\n    ============== ==== ==== ======= ===== ====================\\n\\n    :Missing Attribute Values: None\\n    :Class Distribution: 33.3% for each of 3 classes.\\n    :Creator: R.A. Fisher\\n    :Donor: Michael Marshall (MARSHALL%PLU@io.arc.nasa.gov)\\n    :Date: July, 1988\\n\\nThe famous Iris database, first used by Sir R.A. Fisher. The dataset is taken\\nfrom Fisher\\'s paper. Note that it\\'s the same as in R, but not as in the UCI\\nMachine Learning Repository, which has two wrong data points.\\n\\nThis is perhaps the best known database to be found in the\\npattern recognition literature.  Fisher\\'s paper is a classic in the field and\\nis referenced frequently to this day.  (See Duda & Hart, for example.)  The\\ndata set contains 3 classes of 50 instances each, where each class refers to a\\ntype of iris plant.  One class is linearly separable from the other 2; the\\nlatter are NOT linearly separable from each other.\\n\\n.. topic:: References\\n\\n   - Fisher, R.A. \"The use of multiple measurements in taxonomic problems\"\\n     Annual Eugenics, 7, Part II, 179-188 (1936); also in \"Contributions to\\n     Mathematical Statistics\" (John Wiley, NY, 1950).\\n   - Duda, R.O., & Hart, P.E. (1973) Pattern Classification and Scene Analysis.\\n     (Q327.D83) John Wiley & Sons.  ISBN 0-471-22361-1.  See page 218.\\n   - Dasarathy, B.V. (1980) \"Nosing Around the Neighborhood: A New System\\n     Structure and Classification Rule for Recognition in Partially Exposed\\n     Environments\".  IEEE Transactions on Pattern Analysis and Machine\\n     Intelligence, Vol. PAMI-2, No. 1, 67-71.\\n   - Gates, G.W. (1972) \"The Reduced Nearest Neighbor Rule\".  IEEE Transactions\\n     on Information Theory, May 1972, 431-433.\\n   - See also: 1988 MLC Proceedings, 54-64.  Cheeseman et al\"s AUTOCLASS II\\n     conceptual clustering system finds 3 classes in the data.\\n   - Many, many more ...'"
      ]
     },
     "execution_count": 3,
     "metadata": {},
     "output_type": "execute_result"
    }
   ],
   "source": [
    "iris = load_iris()\n",
    "description = iris.DESCR\n",
    "description"
   ]
  },
  {
   "cell_type": "markdown",
   "id": "a29fa55d-d4ba-428b-9669-590c222891b5",
   "metadata": {},
   "source": [
    "## b"
   ]
  },
  {
   "cell_type": "code",
   "execution_count": 4,
   "id": "7340e18c-6025-41b1-bcab-316d89777096",
   "metadata": {},
   "outputs": [],
   "source": [
    "iris_df = pd.DataFrame(data=iris.data, columns=iris.feature_names)\n",
    "iris_df['target'] = iris.target"
   ]
  },
  {
   "cell_type": "markdown",
   "id": "73de34f7-e622-4fba-a04e-3f72bdc00968",
   "metadata": {},
   "source": [
    "## c"
   ]
  },
  {
   "cell_type": "code",
   "execution_count": 21,
   "id": "87de9ada-1643-416f-b1f0-eddfea38cb93",
   "metadata": {},
   "outputs": [],
   "source": [
    "X = iris_df.drop(columns='target')\n",
    "y = iris_df['target']\n",
    "scaler = StandardScaler()\n",
    "X_scaled = scaler.fit_transform(X)  # Fit and transform the dataset\n",
    "\n",
    "# Split the scaled dataset into training and testing sets with a 70:30 ratio\n",
    "x_train, x_test, y_train, y_test = train_test_split(X_scaled, y, test_size=0.3, random_state=42)"
   ]
  },
  {
   "cell_type": "markdown",
   "id": "66f24879-48a9-4f98-9b47-d633a3ddbfff",
   "metadata": {},
   "source": [
    "## d"
   ]
  },
  {
   "cell_type": "code",
   "execution_count": 22,
   "id": "669b36ec-9350-41b8-ab55-129520d34590",
   "metadata": {},
   "outputs": [],
   "source": [
    "max_iter_values = [100, 500, 1000, 5000, 10000]\n",
    "r2_scores = []\n",
    "\n",
    "for max_iter in max_iter_values:\n",
    "    model = LogisticRegression(max_iter=max_iter, solver='lbfgs', multi_class='auto')\n",
    "    model.fit(x_train, y_train)\n",
    "    y_pred = model.predict(x_test)\n",
    "    r2 = r2_score(y_test, y_pred)\n",
    "    r2_scores.append(r2)"
   ]
  },
  {
   "cell_type": "markdown",
   "id": "aeb47353-b3fc-4865-9b59-b464786f7997",
   "metadata": {},
   "source": [
    "## e"
   ]
  },
  {
   "cell_type": "code",
   "execution_count": 15,
   "id": "f91d36c2-0f7a-46a6-aa60-764e01c32963",
   "metadata": {},
   "outputs": [
    {
     "name": "stdout",
     "output_type": "stream",
     "text": [
      "   Max Iterations  R2 Scores\n",
      "0             100        1.0\n",
      "1             500        1.0\n",
      "2            1000        1.0\n",
      "3            5000        1.0\n",
      "4           10000        1.0\n"
     ]
    }
   ],
   "source": [
    "r2_scores_df = pd.DataFrame({\n",
    "    'Max Iterations': max_iter_values,\n",
    "    'R2 Scores': r2_scores\n",
    "})\n",
    "\n",
    "print(r2_scores_df)"
   ]
  },
  {
   "cell_type": "markdown",
   "id": "8182e8e6-027b-4f7a-83be-af332f7aa20e",
   "metadata": {},
   "source": [
    "# 2"
   ]
  },
  {
   "cell_type": "markdown",
   "id": "4a478f1a-503f-4ea6-9479-d7906870052d",
   "metadata": {},
   "source": [
    "### Split the dataset into training and testing sets with a 60:40 ratio"
   ]
  },
  {
   "cell_type": "code",
   "execution_count": 23,
   "id": "4c236121-6df7-4f82-889c-d5d72138158b",
   "metadata": {},
   "outputs": [],
   "source": [
    "x_train_60, x_test_60, y_train_60, y_test_60 = train_test_split(X_scaled, y, test_size=0.4, random_state=42)\n",
    "\n",
    "# Initialize a list to store R2 scores for the 60:40 split\n",
    "r2_scores_60 = []\n",
    "\n",
    "for max_iter in max_iter_values:\n",
    "    model = LogisticRegression(max_iter=max_iter, solver='lbfgs', multi_class='auto')\n",
    "    model.fit(x_train_60, y_train_60)\n",
    "    y_pred_60 = model.predict(x_test_60)\n",
    "    r2 = r2_score(y_test_60, y_pred_60)\n",
    "    r2_scores_60.append(r2)"
   ]
  },
  {
   "cell_type": "markdown",
   "id": "d72ca096-fe2c-4268-ab68-1c6492c797f0",
   "metadata": {},
   "source": [
    "### Split the dataset into training and testing sets with an 80:20 ratio"
   ]
  },
  {
   "cell_type": "code",
   "execution_count": 24,
   "id": "0b8c2898-0a19-4dda-a2a8-bf2bc77fbbf2",
   "metadata": {},
   "outputs": [],
   "source": [
    "x_train_80, x_test_80, y_train_80, y_test_80 = train_test_split(X_scaled, y, test_size=0.2, random_state=42)\n",
    "r2_scores_80 = []\n",
    "\n",
    "for max_iter in max_iter_values:\n",
    "    model = LogisticRegression(max_iter=max_iter, solver='lbfgs', multi_class='auto')\n",
    "    model.fit(x_train_80, y_train_80)\n",
    "    y_pred_80 = model.predict(x_test_80)\n",
    "    r2 = r2_score(y_test_80, y_pred_80)\n",
    "    r2_scores_80.append(r2)"
   ]
  },
  {
   "cell_type": "markdown",
   "id": "c95b775c-2081-4538-80ad-617f4960b67d",
   "metadata": {},
   "source": [
    "# 3"
   ]
  },
  {
   "cell_type": "code",
   "execution_count": 18,
   "id": "88becfbd-2119-485c-a14a-55ea29e67315",
   "metadata": {},
   "outputs": [],
   "source": [
    "import matplotlib.pyplot as plt"
   ]
  },
  {
   "cell_type": "code",
   "execution_count": 25,
   "id": "049ccc94-3a64-46d2-9ded-91ae9118ef51",
   "metadata": {},
   "outputs": [
    {
     "data": {
      "image/png": "[encoded data removed]",
      "text/plain": [
       "<Figure size 1200x600 with 1 Axes>"
      ]
     },
     "metadata": {},
     "output_type": "display_data"
    }
   ],
   "source": [
    "# Plotting the R2 scores\n",
    "plt.figure(figsize=(12, 6))\n",
    "\n",
    "# Plot for 70:30 split\n",
    "plt.plot(max_iter_values, r2_scores, marker='o', label='70:30 Split')\n",
    "\n",
    "# Plot for 60:40 split\n",
    "plt.plot(max_iter_values, r2_scores_60, marker='o', label='60:40 Split')\n",
    "\n",
    "# Plot for 80:20 split\n",
    "plt.plot(max_iter_values, r2_scores_80, marker='o', label='80:20 Split')\n",
    "\n",
    "# Adding titles and labels\n",
    "plt.title('R2 Scores for Different Split Ratios and Max Iterations')\n",
    "plt.xlabel('Max Iterations')\n",
    "plt.ylabel('R2 Score')\n",
    "plt.xticks(max_iter_values)  # Set x-ticks to be the max_iter values\n",
    "plt.legend()  # Add a legend\n",
    "plt.grid(True)  # Add a grid for better readability\n",
    "\n",
    "# Show the plot\n",
    "plt.show()"
   ]
  },
  {
   "cell_type": "code",
   "execution_count": null,
   "id": "7de580e8-4bdd-456c-8a5b-a6fd8dd5a6e8",
   "metadata": {},
   "outputs": [],
   "source": []
  }
 ],
 "metadata": {
  "kernelspec": {
   "display_name": "Python 3 (ipykernel)",
   "language": "python",
   "name": "python3"
  },
  "language_info": {
   "codemirror_mode": {
    "name": "ipython",
    "version": 3
   },
   "file_extension": ".py",
   "mimetype": "text/x-python",
   "name": "python",
   "nbconvert_exporter": "python",
   "pygments_lexer": "ipython3",
   "version": "3.8.18"
  }
 },
 "nbformat": 4,
 "nbformat_minor": 5
}
